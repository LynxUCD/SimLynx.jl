{
 "cells": [
  {
   "cell_type": "markdown",
   "metadata": {},
   "source": [
    "# SimLynx.jl Event-Based Discrete-Event Simulation Example\n",
    "This is a simple event-based discrete-ev\n",
    "ent simulation of an N teller, single queue bank using the SimLynx.jl hybrid simulation engine and language in Julia."
   ]
  },
  {
   "cell_type": "code",
   "execution_count": 1,
   "metadata": {},
   "outputs": [
    {
     "name": "stdout",
     "output_type": "stream",
     "text": [
      "                   _____ _           _                        _ _\n",
      "  `\\.      ,/'    /  ___(_)         | |                      (_) |\n",
      "   |\\\\____//|     \\ `--. _ _ __ ___ | |    _   _ _ __ __  __  _| |\n",
      "   )/_ `' _\\(      `--. \\ | '_ ` _ \\| |   | | | | '_ \\\\ \\/ / | | |\n",
      "  ,'/-`__'-\\`\\    /\\__/ / | | | | | | |___| |_| | | | |>  < _| | |\n",
      "  /. (_><_) ,\\    \\____/|_|_| |_| |_\\_____/\\__, |_| |_/_/\\_(_) |_|\n",
      "  '`)/`--'\\(`'                              __/ |           _/ |\n",
      "    '      '                               |___/           |__/\n",
      "\n",
      "A Hybrid Simulation Engine and Language in Julia\n",
      "SimLynx.jl Version 0.4.1 2020-12-11\n",
      "University of Colorado in Denver\n",
      "Dr. Doug Williams, Anthony Dupont, Trystan Kaes\n",
      "\n"
     ]
    }
   ],
   "source": [
    "using SimLynx\n",
    "SimLynx.greet()"
   ]
  },
  {
   "cell_type": "markdown",
   "metadata": {},
   "source": [
    "This model requires exponential and uniform random distributions, which are in the Distributions package. The Random package is also required to sample these distributions."
   ]
  },
  {
   "cell_type": "code",
   "execution_count": 2,
   "metadata": {},
   "outputs": [],
   "source": [
    "using Distributions: Exponential, Uniform\n",
    "using Random"
   ]
  },
  {
   "cell_type": "markdown",
   "metadata": {},
   "source": [
    "## Model Parameters\n",
    "\n",
    "The model has several parameters that can be set to customize the model for specific analyses. These are:\n",
    "\n",
    "* Number of tellers (N_TELLERS)\n",
    "* Mean customer inter-arrival time (MEAN_INTERARRIVAL_TIME)\n",
    "* Minimum customer service time (MIN_SERVICE_TIME)\n",
    "* Maximum customer service time (MAX_SERVICE_TIME)"
   ]
  },
  {
   "cell_type": "code",
   "execution_count": 3,
   "metadata": {},
   "outputs": [
    {
     "data": {
      "text/plain": [
       "10.0"
      ]
     },
     "execution_count": 3,
     "metadata": {},
     "output_type": "execute_result"
    }
   ],
   "source": [
    "const N_TELLERS = 2\n",
    "const MEAN_INTERARRIVAL_TIME = 4.0\n",
    "const MIN_SERVICE_TIME = 2.0\n",
    "const MAX_SERVICE_TIME = 10.0"
   ]
  },
  {
   "cell_type": "markdown",
   "metadata": {},
   "source": [
    "## Passive Elements\n",
    "\n",
    "The ``Customer`` struct represents a customer in the system. The ``id`` field is a unique, consecutively numbered identification."
   ]
  },
  {
   "cell_type": "code",
   "execution_count": 4,
   "metadata": {},
   "outputs": [],
   "source": [
    "struct Customer\n",
    "    id::Int64\n",
    "    Customer(id::Int64) = new(id)\n",
    "end\n",
    "\n",
    "Base.show(io::IO, customer::Customer) =\n",
    "    print(io, \"Customer($(customer.id))\")"
   ]
  },
  {
   "cell_type": "markdown",
   "metadata": {},
   "source": [
    "The ``Teller`` mutable struct represents a bank teller. The ``id`` field is a unique, consecutively numbered identification. The ``serving`` field is either the ``Customer`` the teller is currently serving or ``nothing`` if the teller is idle."
   ]
  },
  {
   "cell_type": "code",
   "execution_count": 5,
   "metadata": {},
   "outputs": [],
   "source": [
    "mutable struct Teller\n",
    "    id::Int64\n",
    "    serving::Union{Customer, Nothing}\n",
    "    Teller(id::Int64) = new(id, nothing)\n",
    "end\n",
    "\n",
    "Base.show(io::IO, teller::Teller) =\n",
    "    print(io, \"Teller($(teller.id))\")"
   ]
  },
  {
   "cell_type": "markdown",
   "metadata": {},
   "source": [
    "There are two global variables, ``tellers`` and ``teller_queue``, that represent the bank tellers and the customer queue, respectively."
   ]
  },
  {
   "cell_type": "code",
   "execution_count": 6,
   "metadata": {},
   "outputs": [],
   "source": [
    "tellers = nothing\n",
    "teller_queue = nothing"
   ]
  },
  {
   "cell_type": "markdown",
   "metadata": {},
   "source": [
    "The ``available_teller()`` function returns a available ``Teller`` or ``nothing`` if no teller is available."
   ]
  },
  {
   "cell_type": "code",
   "execution_count": 7,
   "metadata": {},
   "outputs": [
    {
     "data": {
      "text/plain": [
       "available_teller (generic function with 1 method)"
      ]
     },
     "execution_count": 7,
     "metadata": {},
     "output_type": "execute_result"
    }
   ],
   "source": [
    "function available_teller()::Union{Teller, Nothing}\n",
    "    for teller in tellers\n",
    "        if isnothing(teller.serving)\n",
    "            return teller\n",
    "        end\n",
    "    end\n",
    "    return nothing\n",
    "end"
   ]
  },
  {
   "cell_type": "markdown",
   "metadata": {},
   "source": [
    "## Active Elements (Events)\n",
    "\n",
    "The ``generate(n:: Integer, i::Integer)`` event generates the ``i``th (of ``n``) customer in the system with an exponentially distributed inter-arrival time of ``MEAN_INTERARRIVAL_TIME`` minutes. If ``i ≤ n`` the event schedules the ``arrival(customer::Customer)`` event for the ``i``th customer and then schedules the next ``generate(n:: Integer, i::Integer)`` event for the ``i + 1``th customer at the appropriate future time."
   ]
  },
  {
   "cell_type": "code",
   "execution_count": 8,
   "metadata": {},
   "outputs": [
    {
     "data": {
      "text/plain": [
       "generate (generic function with 1 method)"
      ]
     },
     "execution_count": 8,
     "metadata": {},
     "output_type": "execute_result"
    }
   ],
   "source": [
    "@event generate(n:: Integer, i::Integer) begin\n",
    "    if i <= n\n",
    "        dist = Exponential(MEAN_INTERARRIVAL_TIME)\n",
    "        @schedule now arrival(Customer(i))\n",
    "        @schedule in rand(dist) generate(n, i + 1)\n",
    "    end\n",
    "end"
   ]
  },
  {
   "cell_type": "markdown",
   "metadata": {},
   "source": [
    "The ``arrival(customer::Customer)`` event represents the arrival of the ``i``th customer in the system. The event finds an available teller. If there is one, the ``service(teller::Teller, customer::Customer)`` event is scheduled immediately for the ``teller``, ``customer`` pair. If no teller is available, the ``customer`` is added to the teller queue."
   ]
  },
  {
   "cell_type": "code",
   "execution_count": 9,
   "metadata": {},
   "outputs": [
    {
     "data": {
      "text/plain": [
       "arrival (generic function with 1 method)"
      ]
     },
     "execution_count": 9,
     "metadata": {},
     "output_type": "execute_result"
    }
   ],
   "source": [
    "@event arrival(customer::Customer) begin\n",
    "    teller = available_teller()\n",
    "    if isnothing(teller)\n",
    "        enqueue!(teller_queue, customer)\n",
    "    else\n",
    "        @schedule now service(teller, customer)\n",
    "    end\n",
    "end"
   ]
  },
  {
   "cell_type": "markdown",
   "metadata": {},
   "source": [
    "The ``service(teller::Teller, customer::Customer)`` event represents ``teller`` servicing the bank transaction for ``customer``. This event schedules the ``departure(teller::Teller, customer::Customer)`` to occur a uniformly distributed time between ``MIN_SERVICE_TIME`` and ``MAX_SERVICE_TIME`` minutes in the future."
   ]
  },
  {
   "cell_type": "code",
   "execution_count": 10,
   "metadata": {},
   "outputs": [
    {
     "data": {
      "text/plain": [
       "service (generic function with 1 method)"
      ]
     },
     "execution_count": 10,
     "metadata": {},
     "output_type": "execute_result"
    }
   ],
   "source": [
    "@event service(teller::Teller, customer::Customer) begin\n",
    "    dist = Uniform(MIN_SERVICE_TIME, MAX_SERVICE_TIME)\n",
    "    teller.serving = customer\n",
    "    @schedule in rand(dist) departure(teller, customer)\n",
    "end"
   ]
  },
  {
   "cell_type": "markdown",
   "metadata": {},
   "source": [
    "The ``departure(teller::Teller, customer::Customer)`` event represents ``teller`` finishing the transaction for ``customer`` and then ``customer`` leaving the system. If there are customers waiting in the teller queue, the ``teller`` and ``teller`` assigned to immediately service the next customer."
   ]
  },
  {
   "cell_type": "code",
   "execution_count": 11,
   "metadata": {},
   "outputs": [
    {
     "data": {
      "text/plain": [
       "departure (generic function with 1 method)"
      ]
     },
     "execution_count": 11,
     "metadata": {},
     "output_type": "execute_result"
    }
   ],
   "source": [
    "@event departure(teller::Teller, customer::Customer) begin\n",
    "    if isempty(teller_queue)\n",
    "        teller.serving = nothing\n",
    "    else\n",
    "        next_customer = dequeue!(teller_queue)\n",
    "        teller.serving = next_customer\n",
    "        @schedule now service(teller, customer)\n",
    "    end\n",
    "end"
   ]
  },
  {
   "cell_type": "markdown",
   "metadata": {},
   "source": [
    "## Main Program\n",
    "\n",
    "The function ``run_simulation(n::Integer)`` runs the N Teller, Single Queue Bank Model with ``n`` customers. The function first prints a welcome message describing the model and its parameters. It then creates a new simulation to execute the model using the ``@with_new_simulation`` macro. The model itself creates the tellers resource with ``N_TELLERS``, creates the teller queue, schedules the customer generator process (``generator(n::Integer)``) to begin execution at time ``0.0``, and starts the simulation. \n",
    "\n",
    "When the simulation finishes execution, it will print the results of the simulation. These results are:\n",
    "\n",
    "* Teller Queue Length Statistics\n",
    "* Teller Queue Length History\n",
    "\n",
    "Note that these results were automaticalled collected by SimLynx.\n",
    "\n",
    "Other results would have to be coded manually."
   ]
  },
  {
   "cell_type": "code",
   "execution_count": 12,
   "metadata": {},
   "outputs": [
    {
     "data": {
      "text/plain": [
       "run_simulation (generic function with 1 method)"
      ]
     },
     "execution_count": 12,
     "metadata": {},
     "output_type": "execute_result"
    }
   ],
   "source": [
    "function run_simulation(n::Integer)\n",
    "    println(\"SimLynx.jl Event-Based Discrete-Event Simulation Example\")\n",
    "    println(\"$N_TELLERS Teller, Single Queue Bank Model\")\n",
    "    println(\"  Inter-arrival time = Exponential($MEAN_INTERARRIVAL_TIME)\")\n",
    "    println(\"  Service time = Uniform($MIN_SERVICE_TIME, $MAX_SERVICE_TIME)\")\n",
    "    println(\"  Number of customers = $n\")\n",
    "    @simulation begin\n",
    "        global tellers = [Teller(i) for i = 1:N_TELLERS]\n",
    "        global teller_queue = FifoQueue{Customer}()\n",
    "        @schedule at 0.0 generate(n, 1)\n",
    "        start_simulation()\n",
    "        print_stats(teller_queue.n, title=\"Teller Queue Length Statistics\")\n",
    "        plot_history(teller_queue.n, title=\"Teller Queue Length History\")\n",
    "    end\n",
    "end"
   ]
  },
  {
   "cell_type": "markdown",
   "metadata": {},
   "source": [
    "## Output\n",
    "\n",
    "We then call the ``run_simulation(n::Integer)`` function with the number of customer to process, ``n``, as its single parameter. This will run the simulation and display the results."
   ]
  },
  {
   "cell_type": "code",
   "execution_count": 13,
   "metadata": {},
   "outputs": [
    {
     "name": "stdout",
     "output_type": "stream",
     "text": [
      "SimLynx.jl Event-Based Discrete-Event Simulation Example\n",
      "2 Teller, Single Queue Bank Model\n",
      "  Inter-arrival time = Exponential(4.0)\n",
      "  Service time = Uniform(2.0, 10.0)\n",
      "  Number of customers = 100\n",
      "Teller Queue Length Statistics\n",
      "     min = 0\n",
      "     max = 5\n",
      "       n = 395.61428922489745\n",
      "    mean = 1.1661904532143483\n",
      "variance = 2.0224317682543393\n",
      "  stddev = 1.4221222761261914\n",
      "Displaying Teller Queue Length History plot\n"
     ]
    },
    {
     "data": {
      "image/svg+xml": [
       "<?xml version=\"1.0\" encoding=\"utf-8\"?>\n",
       "<svg xmlns=\"http://www.w3.org/2000/svg\" xmlns:xlink=\"http://www.w3.org/1999/xlink\" width=\"600\" height=\"400\" viewBox=\"0 0 2400 1600\">\n",
       "<defs>\n",
       "  <clipPath id=\"clip530\">\n",
       "    <rect x=\"0\" y=\"0\" width=\"2400\" height=\"1600\"/>\n",
       "  </clipPath>\n",
       "</defs>\n",
       "<path clip-path=\"url(#clip530)\" d=\"\n",
       "M0 1600 L2400 1600 L2400 0 L0 0  Z\n",
       "  \" fill=\"#ffffff\" fill-rule=\"evenodd\" fill-opacity=\"1\"/>\n",
       "<defs>\n",
       "  <clipPath id=\"clip531\">\n",
       "    <rect x=\"480\" y=\"0\" width=\"1681\" height=\"1600\"/>\n",
       "  </clipPath>\n",
       "</defs>\n",
       "<path clip-path=\"url(#clip530)\" d=\"\n",
       "M175.445 1423.18 L2352.76 1423.18 L2352.76 123.472 L175.445 123.472  Z\n",
       "  \" fill=\"#ffffff\" fill-rule=\"evenodd\" fill-opacity=\"1\"/>\n",
       "<defs>\n",
       "  <clipPath id=\"clip532\">\n",
       "    <rect x=\"175\" y=\"123\" width=\"2178\" height=\"1301\"/>\n",
       "  </clipPath>\n",
       "</defs>\n",
       "<polyline clip-path=\"url(#clip532)\" style=\"stroke:#000000; stroke-width:2; stroke-opacity:0.1; fill:none\" points=\"\n",
       "  237.067,1423.18 237.067,123.472 \n",
       "  \"/>\n",
       "<polyline clip-path=\"url(#clip532)\" style=\"stroke:#000000; stroke-width:2; stroke-opacity:0.1; fill:none\" points=\"\n",
       "  756.277,1423.18 756.277,123.472 \n",
       "  \"/>\n",
       "<polyline clip-path=\"url(#clip532)\" style=\"stroke:#000000; stroke-width:2; stroke-opacity:0.1; fill:none\" points=\"\n",
       "  1275.49,1423.18 1275.49,123.472 \n",
       "  \"/>\n",
       "<polyline clip-path=\"url(#clip532)\" style=\"stroke:#000000; stroke-width:2; stroke-opacity:0.1; fill:none\" points=\"\n",
       "  1794.7,1423.18 1794.7,123.472 \n",
       "  \"/>\n",
       "<polyline clip-path=\"url(#clip532)\" style=\"stroke:#000000; stroke-width:2; stroke-opacity:0.1; fill:none\" points=\"\n",
       "  2313.9,1423.18 2313.9,123.472 \n",
       "  \"/>\n",
       "<polyline clip-path=\"url(#clip530)\" style=\"stroke:#000000; stroke-width:4; stroke-opacity:1; fill:none\" points=\"\n",
       "  175.445,1423.18 2352.76,1423.18 \n",
       "  \"/>\n",
       "<polyline clip-path=\"url(#clip530)\" style=\"stroke:#000000; stroke-width:4; stroke-opacity:1; fill:none\" points=\"\n",
       "  237.067,1423.18 237.067,1407.58 \n",
       "  \"/>\n",
       "<polyline clip-path=\"url(#clip530)\" style=\"stroke:#000000; stroke-width:4; stroke-opacity:1; fill:none\" points=\"\n",
       "  756.277,1423.18 756.277,1407.58 \n",
       "  \"/>\n",
       "<polyline clip-path=\"url(#clip530)\" style=\"stroke:#000000; stroke-width:4; stroke-opacity:1; fill:none\" points=\"\n",
       "  1275.49,1423.18 1275.49,1407.58 \n",
       "  \"/>\n",
       "<polyline clip-path=\"url(#clip530)\" style=\"stroke:#000000; stroke-width:4; stroke-opacity:1; fill:none\" points=\"\n",
       "  1794.7,1423.18 1794.7,1407.58 \n",
       "  \"/>\n",
       "<polyline clip-path=\"url(#clip530)\" style=\"stroke:#000000; stroke-width:4; stroke-opacity:1; fill:none\" points=\"\n",
       "  2313.9,1423.18 2313.9,1407.58 \n",
       "  \"/>\n",
       "<path clip-path=\"url(#clip530)\" d=\"M 0 0 M237.067 1452.37 Q233.456 1452.37 231.627 1455.94 Q229.822 1459.48 229.822 1466.61 Q229.822 1473.71 231.627 1477.28 Q233.456 1480.82 237.067 1480.82 Q240.701 1480.82 242.507 1477.28 Q244.336 1473.71 244.336 1466.61 Q244.336 1459.48 242.507 1455.94 Q240.701 1452.37 237.067 1452.37 M237.067 1448.67 Q242.877 1448.67 245.933 1453.27 Q249.012 1457.86 249.012 1466.61 Q249.012 1475.33 245.933 1479.94 Q242.877 1484.52 237.067 1484.52 Q231.257 1484.52 228.178 1479.94 Q225.123 1475.33 225.123 1466.61 Q225.123 1457.86 228.178 1453.27 Q231.257 1448.67 237.067 1448.67 Z\" fill=\"#000000\" fill-rule=\"evenodd\" fill-opacity=\"1\" /><path clip-path=\"url(#clip530)\" d=\"M 0 0 M719.645 1479.92 L727.284 1479.92 L727.284 1453.55 L718.974 1455.22 L718.974 1450.96 L727.237 1449.29 L731.913 1449.29 L731.913 1479.92 L739.552 1479.92 L739.552 1483.85 L719.645 1483.85 L719.645 1479.92 Z\" fill=\"#000000\" fill-rule=\"evenodd\" fill-opacity=\"1\" /><path clip-path=\"url(#clip530)\" d=\"M 0 0 M754.622 1452.37 Q751.01 1452.37 749.182 1455.94 Q747.376 1459.48 747.376 1466.61 Q747.376 1473.71 749.182 1477.28 Q751.01 1480.82 754.622 1480.82 Q758.256 1480.82 760.061 1477.28 Q761.89 1473.71 761.89 1466.61 Q761.89 1459.48 760.061 1455.94 Q758.256 1452.37 754.622 1452.37 M754.622 1448.67 Q760.432 1448.67 763.487 1453.27 Q766.566 1457.86 766.566 1466.61 Q766.566 1475.33 763.487 1479.94 Q760.432 1484.52 754.622 1484.52 Q748.811 1484.52 745.733 1479.94 Q742.677 1475.33 742.677 1466.61 Q742.677 1457.86 745.733 1453.27 Q748.811 1448.67 754.622 1448.67 Z\" fill=\"#000000\" fill-rule=\"evenodd\" fill-opacity=\"1\" /><path clip-path=\"url(#clip530)\" d=\"M 0 0 M781.635 1452.37 Q778.024 1452.37 776.196 1455.94 Q774.39 1459.48 774.39 1466.61 Q774.39 1473.71 776.196 1477.28 Q778.024 1480.82 781.635 1480.82 Q785.27 1480.82 787.075 1477.28 Q788.904 1473.71 788.904 1466.61 Q788.904 1459.48 787.075 1455.94 Q785.27 1452.37 781.635 1452.37 M781.635 1448.67 Q787.445 1448.67 790.501 1453.27 Q793.58 1457.86 793.58 1466.61 Q793.58 1475.33 790.501 1479.94 Q787.445 1484.52 781.635 1484.52 Q775.825 1484.52 772.746 1479.94 Q769.691 1475.33 769.691 1466.61 Q769.691 1457.86 772.746 1453.27 Q775.825 1448.67 781.635 1448.67 Z\" fill=\"#000000\" fill-rule=\"evenodd\" fill-opacity=\"1\" /><path clip-path=\"url(#clip530)\" d=\"M 0 0 M1243.13 1479.92 L1259.44 1479.92 L1259.44 1483.85 L1237.5 1483.85 L1237.5 1479.92 Q1240.16 1477.16 1244.75 1472.53 Q1249.35 1467.88 1250.53 1466.54 Q1252.78 1464.01 1253.66 1462.28 Q1254.56 1460.52 1254.56 1458.83 Q1254.56 1456.07 1252.62 1454.34 Q1250.69 1452.6 1247.59 1452.6 Q1245.39 1452.6 1242.94 1453.37 Q1240.51 1454.13 1237.73 1455.68 L1237.73 1450.96 Q1240.56 1449.82 1243.01 1449.25 Q1245.46 1448.67 1247.5 1448.67 Q1252.87 1448.67 1256.06 1451.35 Q1259.26 1454.04 1259.26 1458.53 Q1259.26 1460.66 1258.45 1462.58 Q1257.66 1464.48 1255.56 1467.07 Q1254.98 1467.74 1251.88 1470.96 Q1248.77 1474.15 1243.13 1479.92 Z\" fill=\"#000000\" fill-rule=\"evenodd\" fill-opacity=\"1\" /><path clip-path=\"url(#clip530)\" d=\"M 0 0 M1274.51 1452.37 Q1270.9 1452.37 1269.07 1455.94 Q1267.27 1459.48 1267.27 1466.61 Q1267.27 1473.71 1269.07 1477.28 Q1270.9 1480.82 1274.51 1480.82 Q1278.15 1480.82 1279.95 1477.28 Q1281.78 1473.71 1281.78 1466.61 Q1281.78 1459.48 1279.95 1455.94 Q1278.15 1452.37 1274.51 1452.37 M1274.51 1448.67 Q1280.32 1448.67 1283.38 1453.27 Q1286.46 1457.86 1286.46 1466.61 Q1286.46 1475.33 1283.38 1479.94 Q1280.32 1484.52 1274.51 1484.52 Q1268.7 1484.52 1265.63 1479.94 Q1262.57 1475.33 1262.57 1466.61 Q1262.57 1457.86 1265.63 1453.27 Q1268.7 1448.67 1274.51 1448.67 Z\" fill=\"#000000\" fill-rule=\"evenodd\" fill-opacity=\"1\" /><path clip-path=\"url(#clip530)\" d=\"M 0 0 M1301.53 1452.37 Q1297.92 1452.37 1296.09 1455.94 Q1294.28 1459.48 1294.28 1466.61 Q1294.28 1473.71 1296.09 1477.28 Q1297.92 1480.82 1301.53 1480.82 Q1305.16 1480.82 1306.97 1477.28 Q1308.8 1473.71 1308.8 1466.61 Q1308.8 1459.48 1306.97 1455.94 Q1305.16 1452.37 1301.53 1452.37 M1301.53 1448.67 Q1307.34 1448.67 1310.39 1453.27 Q1313.47 1457.86 1313.47 1466.61 Q1313.47 1475.33 1310.39 1479.94 Q1307.34 1484.52 1301.53 1484.52 Q1295.72 1484.52 1292.64 1479.94 Q1289.58 1475.33 1289.58 1466.61 Q1289.58 1457.86 1292.64 1453.27 Q1295.72 1448.67 1301.53 1448.67 Z\" fill=\"#000000\" fill-rule=\"evenodd\" fill-opacity=\"1\" /><path clip-path=\"url(#clip530)\" d=\"M 0 0 M1771.93 1465.22 Q1775.29 1465.94 1777.16 1468.2 Q1779.06 1470.47 1779.06 1473.81 Q1779.06 1478.92 1775.54 1481.72 Q1772.02 1484.52 1765.54 1484.52 Q1763.36 1484.52 1761.05 1484.08 Q1758.76 1483.67 1756.3 1482.81 L1756.3 1478.3 Q1758.25 1479.43 1760.56 1480.01 Q1762.88 1480.59 1765.4 1480.59 Q1769.8 1480.59 1772.09 1478.85 Q1774.41 1477.12 1774.41 1473.81 Q1774.41 1470.75 1772.25 1469.04 Q1770.12 1467.3 1766.3 1467.3 L1762.28 1467.3 L1762.28 1463.46 L1766.49 1463.46 Q1769.94 1463.46 1771.77 1462.09 Q1773.6 1460.7 1773.6 1458.11 Q1773.6 1455.45 1771.7 1454.04 Q1769.82 1452.6 1766.3 1452.6 Q1764.38 1452.6 1762.18 1453.02 Q1759.99 1453.44 1757.35 1454.31 L1757.35 1450.15 Q1760.01 1449.41 1762.32 1449.04 Q1764.66 1448.67 1766.72 1448.67 Q1772.05 1448.67 1775.15 1451.1 Q1778.25 1453.5 1778.25 1457.63 Q1778.25 1460.5 1776.61 1462.49 Q1774.96 1464.45 1771.93 1465.22 Z\" fill=\"#000000\" fill-rule=\"evenodd\" fill-opacity=\"1\" /><path clip-path=\"url(#clip530)\" d=\"M 0 0 M1794.13 1452.37 Q1790.52 1452.37 1788.69 1455.94 Q1786.88 1459.48 1786.88 1466.61 Q1786.88 1473.71 1788.69 1477.28 Q1790.52 1480.82 1794.13 1480.82 Q1797.76 1480.82 1799.57 1477.28 Q1801.4 1473.71 1801.4 1466.61 Q1801.4 1459.48 1799.57 1455.94 Q1797.76 1452.37 1794.13 1452.37 M1794.13 1448.67 Q1799.94 1448.67 1802.99 1453.27 Q1806.07 1457.86 1806.07 1466.61 Q1806.07 1475.33 1802.99 1479.94 Q1799.94 1484.52 1794.13 1484.52 Q1788.32 1484.52 1785.24 1479.94 Q1782.18 1475.33 1782.18 1466.61 Q1782.18 1457.86 1785.24 1453.27 Q1788.32 1448.67 1794.13 1448.67 Z\" fill=\"#000000\" fill-rule=\"evenodd\" fill-opacity=\"1\" /><path clip-path=\"url(#clip530)\" d=\"M 0 0 M1821.14 1452.37 Q1817.53 1452.37 1815.7 1455.94 Q1813.9 1459.48 1813.9 1466.61 Q1813.9 1473.71 1815.7 1477.28 Q1817.53 1480.82 1821.14 1480.82 Q1824.78 1480.82 1826.58 1477.28 Q1828.41 1473.71 1828.41 1466.61 Q1828.41 1459.48 1826.58 1455.94 Q1824.78 1452.37 1821.14 1452.37 M1821.14 1448.67 Q1826.95 1448.67 1830.01 1453.27 Q1833.09 1457.86 1833.09 1466.61 Q1833.09 1475.33 1830.01 1479.94 Q1826.95 1484.52 1821.14 1484.52 Q1815.33 1484.52 1812.25 1479.94 Q1809.2 1475.33 1809.2 1466.61 Q1809.2 1457.86 1812.25 1453.27 Q1815.33 1448.67 1821.14 1448.67 Z\" fill=\"#000000\" fill-rule=\"evenodd\" fill-opacity=\"1\" /><path clip-path=\"url(#clip530)\" d=\"M 0 0 M2289.9 1453.37 L2278.09 1471.81 L2289.9 1471.81 L2289.9 1453.37 M2288.67 1449.29 L2294.55 1449.29 L2294.55 1471.81 L2299.48 1471.81 L2299.48 1475.7 L2294.55 1475.7 L2294.55 1483.85 L2289.9 1483.85 L2289.9 1475.7 L2274.3 1475.7 L2274.3 1471.19 L2288.67 1449.29 Z\" fill=\"#000000\" fill-rule=\"evenodd\" fill-opacity=\"1\" /><path clip-path=\"url(#clip530)\" d=\"M 0 0 M2314.55 1452.37 Q2310.94 1452.37 2309.11 1455.94 Q2307.31 1459.48 2307.31 1466.61 Q2307.31 1473.71 2309.11 1477.28 Q2310.94 1480.82 2314.55 1480.82 Q2318.19 1480.82 2319.99 1477.28 Q2321.82 1473.71 2321.82 1466.61 Q2321.82 1459.48 2319.99 1455.94 Q2318.19 1452.37 2314.55 1452.37 M2314.55 1448.67 Q2320.36 1448.67 2323.42 1453.27 Q2326.5 1457.86 2326.5 1466.61 Q2326.5 1475.33 2323.42 1479.94 Q2320.36 1484.52 2314.55 1484.52 Q2308.74 1484.52 2305.66 1479.94 Q2302.61 1475.33 2302.61 1466.61 Q2302.61 1457.86 2305.66 1453.27 Q2308.74 1448.67 2314.55 1448.67 Z\" fill=\"#000000\" fill-rule=\"evenodd\" fill-opacity=\"1\" /><path clip-path=\"url(#clip530)\" d=\"M 0 0 M2341.57 1452.37 Q2337.96 1452.37 2336.13 1455.94 Q2334.32 1459.48 2334.32 1466.61 Q2334.32 1473.71 2336.13 1477.28 Q2337.96 1480.82 2341.57 1480.82 Q2345.2 1480.82 2347.01 1477.28 Q2348.84 1473.71 2348.84 1466.61 Q2348.84 1459.48 2347.01 1455.94 Q2345.2 1452.37 2341.57 1452.37 M2341.57 1448.67 Q2347.38 1448.67 2350.43 1453.27 Q2353.51 1457.86 2353.51 1466.61 Q2353.51 1475.33 2350.43 1479.94 Q2347.38 1484.52 2341.57 1484.52 Q2335.76 1484.52 2332.68 1479.94 Q2329.62 1475.33 2329.62 1466.61 Q2329.62 1457.86 2332.68 1453.27 Q2335.76 1448.67 2341.57 1448.67 Z\" fill=\"#000000\" fill-rule=\"evenodd\" fill-opacity=\"1\" /><path clip-path=\"url(#clip530)\" d=\"M 0 0 M1191.71 1508.52 L1231.91 1508.52 L1231.91 1513.93 L1215.04 1513.93 L1215.04 1556.04 L1208.58 1556.04 L1208.58 1513.93 L1191.71 1513.93 L1191.71 1508.52 Z\" fill=\"#000000\" fill-rule=\"evenodd\" fill-opacity=\"1\" /><path clip-path=\"url(#clip530)\" d=\"M 0 0 M1236.04 1520.4 L1241.9 1520.4 L1241.9 1556.04 L1236.04 1556.04 L1236.04 1520.4 M1236.04 1506.52 L1241.9 1506.52 L1241.9 1513.93 L1236.04 1513.93 L1236.04 1506.52 Z\" fill=\"#000000\" fill-rule=\"evenodd\" fill-opacity=\"1\" /><path clip-path=\"url(#clip530)\" d=\"M 0 0 M1275.8 1527.24 Q1277.99 1523.29 1281.05 1521.41 Q1284.1 1519.54 1288.24 1519.54 Q1293.81 1519.54 1296.84 1523.45 Q1299.86 1527.33 1299.86 1534.53 L1299.86 1556.04 L1293.97 1556.04 L1293.97 1534.72 Q1293.97 1529.59 1292.16 1527.11 Q1290.34 1524.63 1286.62 1524.63 Q1282.07 1524.63 1279.43 1527.65 Q1276.78 1530.68 1276.78 1535.9 L1276.78 1556.04 L1270.9 1556.04 L1270.9 1534.72 Q1270.9 1529.56 1269.08 1527.11 Q1267.27 1524.63 1263.48 1524.63 Q1258.99 1524.63 1256.35 1527.68 Q1253.71 1530.71 1253.71 1535.9 L1253.71 1556.04 L1247.82 1556.04 L1247.82 1520.4 L1253.71 1520.4 L1253.71 1525.93 Q1255.71 1522.66 1258.51 1521.1 Q1261.32 1519.54 1265.17 1519.54 Q1269.05 1519.54 1271.76 1521.51 Q1274.49 1523.48 1275.8 1527.24 Z\" fill=\"#000000\" fill-rule=\"evenodd\" fill-opacity=\"1\" /><path clip-path=\"url(#clip530)\" d=\"M 0 0 M1336.49 1536.76 L1336.49 1539.62 L1309.57 1539.62 Q1309.95 1545.67 1313.2 1548.85 Q1316.47 1552 1322.3 1552 Q1325.67 1552 1328.82 1551.17 Q1332.01 1550.35 1335.13 1548.69 L1335.13 1554.23 Q1331.97 1555.57 1328.66 1556.27 Q1325.35 1556.97 1321.95 1556.97 Q1313.42 1556.97 1308.42 1552 Q1303.46 1547.04 1303.46 1538.57 Q1303.46 1529.82 1308.17 1524.69 Q1312.91 1519.54 1320.93 1519.54 Q1328.12 1519.54 1332.29 1524.18 Q1336.49 1528.8 1336.49 1536.76 M1330.64 1535.04 Q1330.57 1530.23 1327.93 1527.37 Q1325.32 1524.5 1320.99 1524.5 Q1316.09 1524.5 1313.13 1527.27 Q1310.2 1530.04 1309.76 1535.07 L1330.64 1535.04 Z\" fill=\"#000000\" fill-rule=\"evenodd\" fill-opacity=\"1\" /><polyline clip-path=\"url(#clip532)\" style=\"stroke:#000000; stroke-width:2; stroke-opacity:0.1; fill:none\" points=\"\n",
       "  175.445,1386.4 2352.76,1386.4 \n",
       "  \"/>\n",
       "<polyline clip-path=\"url(#clip532)\" style=\"stroke:#000000; stroke-width:2; stroke-opacity:0.1; fill:none\" points=\"\n",
       "  175.445,1141.17 2352.76,1141.17 \n",
       "  \"/>\n",
       "<polyline clip-path=\"url(#clip532)\" style=\"stroke:#000000; stroke-width:2; stroke-opacity:0.1; fill:none\" points=\"\n",
       "  175.445,895.94 2352.76,895.94 \n",
       "  \"/>\n",
       "<polyline clip-path=\"url(#clip532)\" style=\"stroke:#000000; stroke-width:2; stroke-opacity:0.1; fill:none\" points=\"\n",
       "  175.445,650.712 2352.76,650.712 \n",
       "  \"/>\n",
       "<polyline clip-path=\"url(#clip532)\" style=\"stroke:#000000; stroke-width:2; stroke-opacity:0.1; fill:none\" points=\"\n",
       "  175.445,405.484 2352.76,405.484 \n",
       "  \"/>\n",
       "<polyline clip-path=\"url(#clip532)\" style=\"stroke:#000000; stroke-width:2; stroke-opacity:0.1; fill:none\" points=\"\n",
       "  175.445,160.256 2352.76,160.256 \n",
       "  \"/>\n",
       "<polyline clip-path=\"url(#clip530)\" style=\"stroke:#000000; stroke-width:4; stroke-opacity:1; fill:none\" points=\"\n",
       "  175.445,1423.18 175.445,123.472 \n",
       "  \"/>\n",
       "<polyline clip-path=\"url(#clip530)\" style=\"stroke:#000000; stroke-width:4; stroke-opacity:1; fill:none\" points=\"\n",
       "  175.445,1386.4 201.573,1386.4 \n",
       "  \"/>\n",
       "<polyline clip-path=\"url(#clip530)\" style=\"stroke:#000000; stroke-width:4; stroke-opacity:1; fill:none\" points=\"\n",
       "  175.445,1141.17 201.573,1141.17 \n",
       "  \"/>\n",
       "<polyline clip-path=\"url(#clip530)\" style=\"stroke:#000000; stroke-width:4; stroke-opacity:1; fill:none\" points=\"\n",
       "  175.445,895.94 201.573,895.94 \n",
       "  \"/>\n",
       "<polyline clip-path=\"url(#clip530)\" style=\"stroke:#000000; stroke-width:4; stroke-opacity:1; fill:none\" points=\"\n",
       "  175.445,650.712 201.573,650.712 \n",
       "  \"/>\n",
       "<polyline clip-path=\"url(#clip530)\" style=\"stroke:#000000; stroke-width:4; stroke-opacity:1; fill:none\" points=\"\n",
       "  175.445,405.484 201.573,405.484 \n",
       "  \"/>\n",
       "<polyline clip-path=\"url(#clip530)\" style=\"stroke:#000000; stroke-width:4; stroke-opacity:1; fill:none\" points=\"\n",
       "  175.445,160.256 201.573,160.256 \n",
       "  \"/>\n",
       "<path clip-path=\"url(#clip530)\" d=\"M 0 0 M127.501 1372.19 Q123.89 1372.19 122.061 1375.76 Q120.255 1379.3 120.255 1386.43 Q120.255 1393.54 122.061 1397.1 Q123.89 1400.64 127.501 1400.64 Q131.135 1400.64 132.941 1397.1 Q134.769 1393.54 134.769 1386.43 Q134.769 1379.3 132.941 1375.76 Q131.135 1372.19 127.501 1372.19 M127.501 1368.49 Q133.311 1368.49 136.367 1373.1 Q139.445 1377.68 139.445 1386.43 Q139.445 1395.16 136.367 1399.76 Q133.311 1404.35 127.501 1404.35 Q121.691 1404.35 118.612 1399.76 Q115.556 1395.16 115.556 1386.43 Q115.556 1377.68 118.612 1373.1 Q121.691 1368.49 127.501 1368.49 Z\" fill=\"#000000\" fill-rule=\"evenodd\" fill-opacity=\"1\" /><path clip-path=\"url(#clip530)\" d=\"M 0 0 M119.538 1154.51 L127.177 1154.51 L127.177 1128.15 L118.867 1129.81 L118.867 1125.55 L127.13 1123.89 L131.806 1123.89 L131.806 1154.51 L139.445 1154.51 L139.445 1158.45 L119.538 1158.45 L119.538 1154.51 Z\" fill=\"#000000\" fill-rule=\"evenodd\" fill-opacity=\"1\" /><path clip-path=\"url(#clip530)\" d=\"M 0 0 M123.126 909.285 L139.445 909.285 L139.445 913.22 L117.501 913.22 L117.501 909.285 Q120.163 906.53 124.746 901.901 Q129.353 897.248 130.533 895.905 Q132.779 893.382 133.658 891.646 Q134.561 889.887 134.561 888.197 Q134.561 885.442 132.617 883.706 Q130.695 881.97 127.593 881.97 Q125.394 881.97 122.941 882.734 Q120.51 883.498 117.732 885.049 L117.732 880.327 Q120.556 879.192 123.01 878.614 Q125.464 878.035 127.501 878.035 Q132.871 878.035 136.066 880.72 Q139.26 883.405 139.26 887.896 Q139.26 890.026 138.45 891.947 Q137.663 893.845 135.556 896.438 Q134.978 897.109 131.876 900.326 Q128.774 903.521 123.126 909.285 Z\" fill=\"#000000\" fill-rule=\"evenodd\" fill-opacity=\"1\" /><path clip-path=\"url(#clip530)\" d=\"M 0 0 M132.316 649.358 Q135.672 650.075 137.547 652.344 Q139.445 654.612 139.445 657.946 Q139.445 663.062 135.927 665.862 Q132.408 668.663 125.927 668.663 Q123.751 668.663 121.436 668.224 Q119.144 667.807 116.691 666.95 L116.691 662.437 Q118.635 663.571 120.95 664.149 Q123.265 664.728 125.788 664.728 Q130.186 664.728 132.478 662.992 Q134.792 661.256 134.792 657.946 Q134.792 654.89 132.64 653.177 Q130.51 651.441 126.691 651.441 L122.663 651.441 L122.663 647.599 L126.876 647.599 Q130.325 647.599 132.154 646.233 Q133.982 644.844 133.982 642.251 Q133.982 639.589 132.084 638.177 Q130.209 636.742 126.691 636.742 Q124.769 636.742 122.57 637.159 Q120.371 637.576 117.732 638.455 L117.732 634.289 Q120.394 633.548 122.709 633.177 Q125.047 632.807 127.107 632.807 Q132.431 632.807 135.533 635.238 Q138.635 637.645 138.635 641.765 Q138.635 644.636 136.992 646.626 Q135.348 648.594 132.316 649.358 Z\" fill=\"#000000\" fill-rule=\"evenodd\" fill-opacity=\"1\" /><path clip-path=\"url(#clip530)\" d=\"M 0 0 M129.862 392.278 L118.056 410.727 L129.862 410.727 L129.862 392.278 M128.635 388.204 L134.515 388.204 L134.515 410.727 L139.445 410.727 L139.445 414.616 L134.515 414.616 L134.515 422.764 L129.862 422.764 L129.862 414.616 L114.26 414.616 L114.26 410.102 L128.635 388.204 Z\" fill=\"#000000\" fill-rule=\"evenodd\" fill-opacity=\"1\" /><path clip-path=\"url(#clip530)\" d=\"M 0 0 M118.543 142.976 L136.899 142.976 L136.899 146.911 L122.825 146.911 L122.825 155.384 Q123.843 155.036 124.862 154.874 Q125.88 154.689 126.899 154.689 Q132.686 154.689 136.066 157.86 Q139.445 161.032 139.445 166.448 Q139.445 172.027 135.973 175.129 Q132.501 178.208 126.181 178.208 Q124.005 178.208 121.737 177.837 Q119.492 177.467 117.084 176.726 L117.084 172.027 Q119.168 173.161 121.39 173.717 Q123.612 174.272 126.089 174.272 Q130.093 174.272 132.431 172.166 Q134.769 170.059 134.769 166.448 Q134.769 162.837 132.431 160.731 Q130.093 158.624 126.089 158.624 Q124.214 158.624 122.339 159.041 Q120.487 159.458 118.543 160.337 L118.543 142.976 Z\" fill=\"#000000\" fill-rule=\"evenodd\" fill-opacity=\"1\" /><path clip-path=\"url(#clip530)\" d=\"M 0 0 M88.0042 833.45 L40.4842 851.592 L40.4842 844.877 L80.4926 829.822 L40.4842 814.735 L40.4842 808.051 L88.0042 826.161 L88.0042 833.45 Z\" fill=\"#000000\" fill-rule=\"evenodd\" fill-opacity=\"1\" /><path clip-path=\"url(#clip530)\" d=\"M 0 0 M70.0847 790.768 Q70.0847 797.866 71.7079 800.603 Q73.3312 803.34 77.2461 803.34 Q80.3653 803.34 82.2114 801.303 Q84.0256 799.234 84.0256 795.701 Q84.0256 790.832 80.5881 787.903 Q77.1188 784.943 71.3897 784.943 L70.0847 784.943 L70.0847 790.768 M67.6657 779.087 L88.0042 779.087 L88.0042 784.943 L82.5933 784.943 Q85.8398 786.949 87.3994 789.94 Q88.9272 792.932 88.9272 797.261 Q88.9272 802.736 85.8716 805.982 Q82.7843 809.197 77.6281 809.197 Q71.6125 809.197 68.5569 805.186 Q65.5014 801.144 65.5014 793.155 L65.5014 784.943 L64.9285 784.943 Q60.8862 784.943 58.6901 787.617 Q56.4621 790.259 56.4621 795.065 Q56.4621 798.12 57.1941 801.017 Q57.9262 803.913 59.3903 806.587 L53.9795 806.587 Q52.7381 803.372 52.1334 800.348 Q51.4968 797.325 51.4968 794.46 Q51.4968 786.726 55.5072 782.906 Q59.5176 779.087 67.6657 779.087 Z\" fill=\"#000000\" fill-rule=\"evenodd\" fill-opacity=\"1\" /><path clip-path=\"url(#clip530)\" d=\"M 0 0 M38.479 772.944 L38.479 767.088 L88.0042 767.088 L88.0042 772.944 L38.479 772.944 Z\" fill=\"#000000\" fill-rule=\"evenodd\" fill-opacity=\"1\" /><path clip-path=\"url(#clip530)\" d=\"M 0 0 M73.9359 761.549 L52.3562 761.549 L52.3562 755.693 L73.7131 755.693 Q78.7739 755.693 81.3202 753.72 Q83.8346 751.746 83.8346 747.8 Q83.8346 743.057 80.8109 740.32 Q77.7872 737.551 72.5673 737.551 L52.3562 737.551 L52.3562 731.694 L88.0042 731.694 L88.0042 737.551 L82.5296 737.551 Q85.7762 739.683 87.3676 742.516 Q88.9272 745.317 88.9272 749.041 Q88.9272 755.184 85.1078 758.367 Q81.2883 761.549 73.9359 761.549 M51.4968 746.813 L51.4968 746.813 Z\" fill=\"#000000\" fill-rule=\"evenodd\" fill-opacity=\"1\" /><path clip-path=\"url(#clip530)\" d=\"M 0 0 M68.7161 695.06 L71.5806 695.06 L71.5806 721.987 Q77.6281 721.605 80.8109 718.358 Q83.9619 715.08 83.9619 709.255 Q83.9619 705.881 83.1344 702.73 Q82.3069 699.547 80.6518 696.428 L86.1899 696.428 Q87.5267 699.579 88.227 702.889 Q88.9272 706.2 88.9272 709.605 Q88.9272 718.135 83.9619 723.132 Q78.9967 728.098 70.5303 728.098 Q61.7774 728.098 56.6531 723.387 Q51.4968 718.645 51.4968 710.624 Q51.4968 703.431 56.1438 699.261 Q60.7589 695.06 68.7161 695.06 M66.9973 700.916 Q62.1912 700.98 59.3266 703.621 Q56.4621 706.231 56.4621 710.56 Q56.4621 715.462 59.2312 718.422 Q62.0002 721.35 67.0292 721.796 L66.9973 700.916 Z\" fill=\"#000000\" fill-rule=\"evenodd\" fill-opacity=\"1\" /><path clip-path=\"url(#clip530)\" d=\"M 0 0 M743.134 12.096 L794.297 12.096 L794.297 18.9825 L772.827 18.9825 L772.827 72.576 L764.604 72.576 L764.604 18.9825 L743.134 18.9825 L743.134 12.096 Z\" fill=\"#000000\" fill-rule=\"evenodd\" fill-opacity=\"1\" /><path clip-path=\"url(#clip530)\" d=\"M 0 0 M826.826 48.0275 L826.826 51.6733 L792.555 51.6733 Q793.041 59.3701 797.173 63.421 Q801.346 67.4314 808.759 67.4314 Q813.053 67.4314 817.063 66.3781 Q821.114 65.3249 825.084 63.2184 L825.084 70.267 Q821.073 71.9684 816.86 72.8596 Q812.648 73.7508 808.313 73.7508 Q797.457 73.7508 791.097 67.4314 Q784.777 61.1119 784.777 50.3365 Q784.777 39.1965 790.773 32.6746 Q796.809 26.1121 807.017 26.1121 Q816.172 26.1121 821.479 32.0264 Q826.826 37.9003 826.826 48.0275 M819.372 45.84 Q819.291 39.7232 815.929 36.0774 Q812.607 32.4315 807.098 32.4315 Q800.859 32.4315 797.092 35.9558 Q793.365 39.4801 792.798 45.8805 L819.372 45.84 Z\" fill=\"#000000\" fill-rule=\"evenodd\" fill-opacity=\"1\" /><path clip-path=\"url(#clip530)\" d=\"M 0 0 M834.644 9.54393 L842.098 9.54393 L842.098 72.576 L834.644 72.576 L834.644 9.54393 Z\" fill=\"#000000\" fill-rule=\"evenodd\" fill-opacity=\"1\" /><path clip-path=\"url(#clip530)\" d=\"M 0 0 M849.916 9.54393 L857.37 9.54393 L857.37 72.576 L849.916 72.576 L849.916 9.54393 Z\" fill=\"#000000\" fill-rule=\"evenodd\" fill-opacity=\"1\" /><path clip-path=\"url(#clip530)\" d=\"M 0 0 M903.995 48.0275 L903.995 51.6733 L869.725 51.6733 Q870.211 59.3701 874.343 63.421 Q878.515 67.4314 885.928 67.4314 Q890.222 67.4314 894.233 66.3781 Q898.284 65.3249 902.254 63.2184 L902.254 70.267 Q898.243 71.9684 894.03 72.8596 Q889.817 73.7508 885.483 73.7508 Q874.626 73.7508 868.266 67.4314 Q861.947 61.1119 861.947 50.3365 Q861.947 39.1965 867.942 32.6746 Q873.978 26.1121 884.187 26.1121 Q893.342 26.1121 898.648 32.0264 Q903.995 37.9003 903.995 48.0275 M896.542 45.84 Q896.461 39.7232 893.098 36.0774 Q889.777 32.4315 884.268 32.4315 Q878.029 32.4315 874.262 35.9558 Q870.535 39.4801 869.968 45.8805 L896.542 45.84 Z\" fill=\"#000000\" fill-rule=\"evenodd\" fill-opacity=\"1\" /><path clip-path=\"url(#clip530)\" d=\"M 0 0 M938.104 34.1734 Q936.848 33.4443 935.349 33.1202 Q933.891 32.7556 932.109 32.7556 Q925.789 32.7556 922.387 36.8875 Q919.024 40.9789 919.024 48.6757 L919.024 72.576 L911.53 72.576 L911.53 27.2059 L919.024 27.2059 L919.024 34.2544 Q921.374 30.1225 925.141 28.1376 Q928.908 26.1121 934.296 26.1121 Q935.066 26.1121 935.998 26.2337 Q936.929 26.3147 938.064 26.5172 L938.104 34.1734 Z\" fill=\"#000000\" fill-rule=\"evenodd\" fill-opacity=\"1\" /><path clip-path=\"url(#clip530)\" d=\"M 0 0 M997.166 17.6457 Q988.254 17.6457 982.988 24.2892 Q977.762 30.9327 977.762 42.3968 Q977.762 53.8203 982.988 60.4638 Q988.254 67.1073 997.166 67.1073 Q1006.08 67.1073 1011.26 60.4638 Q1016.49 53.8203 1016.49 42.3968 Q1016.49 30.9327 1011.26 24.2892 Q1006.08 17.6457 997.166 17.6457 M1008.63 71.4823 L1019.41 83.2704 L1009.52 83.2704 L1000.57 73.5887 Q999.232 73.6697 998.503 73.7103 Q997.814 73.7508 997.166 73.7508 Q984.406 73.7508 976.75 65.2439 Q969.134 56.6965 969.134 42.3968 Q969.134 28.0566 976.75 19.5497 Q984.406 11.0023 997.166 11.0023 Q1009.89 11.0023 1017.5 19.5497 Q1025.12 28.0566 1025.12 42.3968 Q1025.12 52.9291 1020.86 60.4233 Q1016.65 67.9175 1008.63 71.4823 Z\" fill=\"#000000\" fill-rule=\"evenodd\" fill-opacity=\"1\" /><path clip-path=\"url(#clip530)\" d=\"M 0 0 M1032.17 54.671 L1032.17 27.2059 L1039.62 27.2059 L1039.62 54.3874 Q1039.62 60.8284 1042.13 64.0691 Q1044.64 67.2693 1049.67 67.2693 Q1055.7 67.2693 1059.19 63.421 Q1062.71 59.5726 1062.71 52.9291 L1062.71 27.2059 L1070.16 27.2059 L1070.16 72.576 L1062.71 72.576 L1062.71 65.6084 Q1060 69.7404 1056.39 71.7658 Q1052.83 73.7508 1048.09 73.7508 Q1040.27 73.7508 1036.22 68.8897 Q1032.17 64.0286 1032.17 54.671 M1050.92 26.1121 L1050.92 26.1121 Z\" fill=\"#000000\" fill-rule=\"evenodd\" fill-opacity=\"1\" /><path clip-path=\"url(#clip530)\" d=\"M 0 0 M1116.79 48.0275 L1116.79 51.6733 L1082.52 51.6733 Q1083 59.3701 1087.14 63.421 Q1091.31 67.4314 1098.72 67.4314 Q1103.02 67.4314 1107.03 66.3781 Q1111.08 65.3249 1115.05 63.2184 L1115.05 70.267 Q1111.04 71.9684 1106.82 72.8596 Q1102.61 73.7508 1098.28 73.7508 Q1087.42 73.7508 1081.06 67.4314 Q1074.74 61.1119 1074.74 50.3365 Q1074.74 39.1965 1080.74 32.6746 Q1086.77 26.1121 1096.98 26.1121 Q1106.14 26.1121 1111.44 32.0264 Q1116.79 37.9003 1116.79 48.0275 M1109.34 45.84 Q1109.25 39.7232 1105.89 36.0774 Q1102.57 32.4315 1097.06 32.4315 Q1090.82 32.4315 1087.06 35.9558 Q1083.33 39.4801 1082.76 45.8805 L1109.34 45.84 Z\" fill=\"#000000\" fill-rule=\"evenodd\" fill-opacity=\"1\" /><path clip-path=\"url(#clip530)\" d=\"M 0 0 M1123.84 54.671 L1123.84 27.2059 L1131.29 27.2059 L1131.29 54.3874 Q1131.29 60.8284 1133.8 64.0691 Q1136.31 67.2693 1141.34 67.2693 Q1147.37 67.2693 1150.86 63.421 Q1154.38 59.5726 1154.38 52.9291 L1154.38 27.2059 L1161.84 27.2059 L1161.84 72.576 L1154.38 72.576 L1154.38 65.6084 Q1151.67 69.7404 1148.06 71.7658 Q1144.5 73.7508 1139.76 73.7508 Q1131.94 73.7508 1127.89 68.8897 Q1123.84 64.0286 1123.84 54.671 M1142.59 26.1121 L1142.59 26.1121 Z\" fill=\"#000000\" fill-rule=\"evenodd\" fill-opacity=\"1\" /><path clip-path=\"url(#clip530)\" d=\"M 0 0 M1208.46 48.0275 L1208.46 51.6733 L1174.19 51.6733 Q1174.68 59.3701 1178.81 63.421 Q1182.98 67.4314 1190.39 67.4314 Q1194.69 67.4314 1198.7 66.3781 Q1202.75 65.3249 1206.72 63.2184 L1206.72 70.267 Q1202.71 71.9684 1198.5 72.8596 Q1194.28 73.7508 1189.95 73.7508 Q1179.09 73.7508 1172.73 67.4314 Q1166.41 61.1119 1166.41 50.3365 Q1166.41 39.1965 1172.41 32.6746 Q1178.44 26.1121 1188.65 26.1121 Q1197.81 26.1121 1203.11 32.0264 Q1208.46 37.9003 1208.46 48.0275 M1201.01 45.84 Q1200.93 39.7232 1197.56 36.0774 Q1194.24 32.4315 1188.73 32.4315 Q1182.5 32.4315 1178.73 35.9558 Q1175 39.4801 1174.43 45.8805 L1201.01 45.84 Z\" fill=\"#000000\" fill-rule=\"evenodd\" fill-opacity=\"1\" /><path clip-path=\"url(#clip530)\" d=\"M 0 0 M1242.98 12.096 L1251.16 12.096 L1251.16 65.6895 L1280.61 65.6895 L1280.61 72.576 L1242.98 72.576 L1242.98 12.096 Z\" fill=\"#000000\" fill-rule=\"evenodd\" fill-opacity=\"1\" /><path clip-path=\"url(#clip530)\" d=\"M 0 0 M1325.78 48.0275 L1325.78 51.6733 L1291.5 51.6733 Q1291.99 59.3701 1296.12 63.421 Q1300.3 67.4314 1307.71 67.4314 Q1312 67.4314 1316.01 66.3781 Q1320.06 65.3249 1324.03 63.2184 L1324.03 70.267 Q1320.02 71.9684 1315.81 72.8596 Q1311.6 73.7508 1307.26 73.7508 Q1296.41 73.7508 1290.05 67.4314 Q1283.73 61.1119 1283.73 50.3365 Q1283.73 39.1965 1289.72 32.6746 Q1295.76 26.1121 1305.97 26.1121 Q1315.12 26.1121 1320.43 32.0264 Q1325.78 37.9003 1325.78 48.0275 M1318.32 45.84 Q1318.24 39.7232 1314.88 36.0774 Q1311.56 32.4315 1306.05 32.4315 Q1299.81 32.4315 1296.04 35.9558 Q1292.32 39.4801 1291.75 45.8805 L1318.32 45.84 Z\" fill=\"#000000\" fill-rule=\"evenodd\" fill-opacity=\"1\" /><path clip-path=\"url(#clip530)\" d=\"M 0 0 M1371.31 45.1919 L1371.31 72.576 L1363.85 72.576 L1363.85 45.4349 Q1363.85 38.994 1361.34 35.7938 Q1358.83 32.5936 1353.81 32.5936 Q1347.77 32.5936 1344.29 36.4419 Q1340.8 40.2903 1340.8 46.9338 L1340.8 72.576 L1333.31 72.576 L1333.31 27.2059 L1340.8 27.2059 L1340.8 34.2544 Q1343.48 30.163 1347.08 28.1376 Q1350.73 26.1121 1355.47 26.1121 Q1363.29 26.1121 1367.3 30.9732 Q1371.31 35.7938 1371.31 45.1919 Z\" fill=\"#000000\" fill-rule=\"evenodd\" fill-opacity=\"1\" /><path clip-path=\"url(#clip530)\" d=\"M 0 0 M1408.98 49.3643 Q1408.98 41.2625 1405.62 36.8065 Q1402.3 32.3505 1396.26 32.3505 Q1390.27 32.3505 1386.9 36.8065 Q1383.58 41.2625 1383.58 49.3643 Q1383.58 57.4256 1386.9 61.8816 Q1390.27 66.3376 1396.26 66.3376 Q1402.3 66.3376 1405.62 61.8816 Q1408.98 57.4256 1408.98 49.3643 M1416.43 66.9452 Q1416.43 78.5308 1411.29 84.1616 Q1406.15 89.8329 1395.53 89.8329 Q1391.6 89.8329 1388.12 89.2252 Q1384.64 88.6581 1381.35 87.4428 L1381.35 80.1917 Q1384.64 81.9741 1387.84 82.8248 Q1391.04 83.6755 1394.36 83.6755 Q1401.69 83.6755 1405.34 79.8271 Q1408.98 76.0193 1408.98 68.282 L1408.98 64.5957 Q1406.67 68.6061 1403.07 70.5911 Q1399.46 72.576 1394.44 72.576 Q1386.09 72.576 1380.99 66.2161 Q1375.89 59.8562 1375.89 49.3643 Q1375.89 38.832 1380.99 32.472 Q1386.09 26.1121 1394.44 26.1121 Q1399.46 26.1121 1403.07 28.0971 Q1406.67 30.082 1408.98 34.0924 L1408.98 27.2059 L1416.43 27.2059 L1416.43 66.9452 Z\" fill=\"#000000\" fill-rule=\"evenodd\" fill-opacity=\"1\" /><path clip-path=\"url(#clip530)\" d=\"M 0 0 M1431.63 14.324 L1431.63 27.2059 L1446.98 27.2059 L1446.98 32.9987 L1431.63 32.9987 L1431.63 57.6282 Q1431.63 63.1779 1433.12 64.7578 Q1434.66 66.3376 1439.32 66.3376 L1446.98 66.3376 L1446.98 72.576 L1439.32 72.576 Q1430.69 72.576 1427.41 69.3758 Q1424.13 66.1351 1424.13 57.6282 L1424.13 32.9987 L1418.66 32.9987 L1418.66 27.2059 L1424.13 27.2059 L1424.13 14.324 L1431.63 14.324 Z\" fill=\"#000000\" fill-rule=\"evenodd\" fill-opacity=\"1\" /><path clip-path=\"url(#clip530)\" d=\"M 0 0 M1492.51 45.1919 L1492.51 72.576 L1485.06 72.576 L1485.06 45.4349 Q1485.06 38.994 1482.55 35.7938 Q1480.03 32.5936 1475.01 32.5936 Q1468.98 32.5936 1465.49 36.4419 Q1462.01 40.2903 1462.01 46.9338 L1462.01 72.576 L1454.51 72.576 L1454.51 9.54393 L1462.01 9.54393 L1462.01 34.2544 Q1464.68 30.163 1468.29 28.1376 Q1471.93 26.1121 1476.67 26.1121 Q1484.49 26.1121 1488.5 30.9732 Q1492.51 35.7938 1492.51 45.1919 Z\" fill=\"#000000\" fill-rule=\"evenodd\" fill-opacity=\"1\" /><path clip-path=\"url(#clip530)\" d=\"M 0 0 M1527.02 12.096 L1535.21 12.096 L1535.21 36.8875 L1564.94 36.8875 L1564.94 12.096 L1573.12 12.096 L1573.12 72.576 L1564.94 72.576 L1564.94 43.7741 L1535.21 43.7741 L1535.21 72.576 L1527.02 72.576 L1527.02 12.096 Z\" fill=\"#000000\" fill-rule=\"evenodd\" fill-opacity=\"1\" /><path clip-path=\"url(#clip530)\" d=\"M 0 0 M1580.94 27.2059 L1588.4 27.2059 L1588.4 72.576 L1580.94 72.576 L1580.94 27.2059 M1580.94 9.54393 L1588.4 9.54393 L1588.4 18.9825 L1580.94 18.9825 L1580.94 9.54393 Z\" fill=\"#000000\" fill-rule=\"evenodd\" fill-opacity=\"1\" /><path clip-path=\"url(#clip530)\" d=\"M 0 0 M1625.14 28.5427 L1625.14 35.5912 Q1621.98 33.9709 1618.57 33.1607 Q1615.17 32.3505 1611.53 32.3505 Q1605.98 32.3505 1603.18 34.0519 Q1600.43 35.7533 1600.43 39.156 Q1600.43 41.7486 1602.41 43.2475 Q1604.4 44.7058 1610.39 46.0426 L1612.94 46.6097 Q1620.88 48.3111 1624.21 51.4303 Q1627.57 54.509 1627.57 60.0587 Q1627.57 66.3781 1622.54 70.0644 Q1617.56 73.7508 1608.81 73.7508 Q1605.17 73.7508 1601.2 73.0216 Q1597.27 72.3329 1592.89 70.9151 L1592.89 63.2184 Q1597.02 65.3654 1601.03 66.4591 Q1605.04 67.5124 1608.97 67.5124 Q1614.24 67.5124 1617.08 65.73 Q1619.91 63.9071 1619.91 60.6258 Q1619.91 57.5877 1617.85 55.9673 Q1615.82 54.3469 1608.89 52.8481 L1606.3 52.2405 Q1599.37 50.7821 1596.29 47.7845 Q1593.22 44.7463 1593.22 39.4801 Q1593.22 33.0797 1597.75 29.5959 Q1602.29 26.1121 1610.64 26.1121 Q1614.77 26.1121 1618.41 26.7198 Q1622.06 27.3274 1625.14 28.5427 Z\" fill=\"#000000\" fill-rule=\"evenodd\" fill-opacity=\"1\" /><path clip-path=\"url(#clip530)\" d=\"M 0 0 M1642.76 14.324 L1642.76 27.2059 L1658.11 27.2059 L1658.11 32.9987 L1642.76 32.9987 L1642.76 57.6282 Q1642.76 63.1779 1644.26 64.7578 Q1645.8 66.3376 1650.46 66.3376 L1658.11 66.3376 L1658.11 72.576 L1650.46 72.576 Q1641.83 72.576 1638.55 69.3758 Q1635.26 66.1351 1635.26 57.6282 L1635.26 32.9987 L1629.8 32.9987 L1629.8 27.2059 L1635.26 27.2059 L1635.26 14.324 L1642.76 14.324 Z\" fill=\"#000000\" fill-rule=\"evenodd\" fill-opacity=\"1\" /><path clip-path=\"url(#clip530)\" d=\"M 0 0 M1683.51 32.4315 Q1677.52 32.4315 1674.03 37.1306 Q1670.55 41.7891 1670.55 49.9314 Q1670.55 58.0738 1673.99 62.7728 Q1677.48 67.4314 1683.51 67.4314 Q1689.47 67.4314 1692.95 62.7323 Q1696.43 58.0333 1696.43 49.9314 Q1696.43 41.8701 1692.95 37.1711 Q1689.47 32.4315 1683.51 32.4315 M1683.51 26.1121 Q1693.23 26.1121 1698.78 32.4315 Q1704.33 38.7509 1704.33 49.9314 Q1704.33 61.0714 1698.78 67.4314 Q1693.23 73.7508 1683.51 73.7508 Q1673.75 73.7508 1668.2 67.4314 Q1662.69 61.0714 1662.69 49.9314 Q1662.69 38.7509 1668.2 32.4315 Q1673.75 26.1121 1683.51 26.1121 Z\" fill=\"#000000\" fill-rule=\"evenodd\" fill-opacity=\"1\" /><path clip-path=\"url(#clip530)\" d=\"M 0 0 M1738.44 34.1734 Q1737.19 33.4443 1735.69 33.1202 Q1734.23 32.7556 1732.45 32.7556 Q1726.13 32.7556 1722.72 36.8875 Q1719.36 40.9789 1719.36 48.6757 L1719.36 72.576 L1711.87 72.576 L1711.87 27.2059 L1719.36 27.2059 L1719.36 34.2544 Q1721.71 30.1225 1725.48 28.1376 Q1729.25 26.1121 1734.63 26.1121 Q1735.4 26.1121 1736.33 26.2337 Q1737.27 26.3147 1738.4 26.5172 L1738.44 34.1734 Z\" fill=\"#000000\" fill-rule=\"evenodd\" fill-opacity=\"1\" /><path clip-path=\"url(#clip530)\" d=\"M 0 0 M1765.14 76.7889 Q1761.98 84.8907 1758.98 87.3618 Q1755.98 89.8329 1750.96 89.8329 L1745 89.8329 L1745 83.5945 L1749.38 83.5945 Q1752.46 83.5945 1754.16 82.1361 Q1755.86 80.6778 1757.93 75.2496 L1759.26 71.8468 L1740.91 27.2059 L1748.81 27.2059 L1762.99 62.6918 L1777.17 27.2059 L1785.07 27.2059 L1765.14 76.7889 Z\" fill=\"#000000\" fill-rule=\"evenodd\" fill-opacity=\"1\" /><polyline clip-path=\"url(#clip532)\" style=\"stroke:#009af9; stroke-width:4; stroke-opacity:1; fill:none\" points=\"\n",
       "  237.067,1386.4 277.984,1386.4 277.984,1141.17 293.798,1141.17 293.798,1386.4 296.674,1386.4 296.674,1141.17 296.763,1141.17 296.763,895.94 300.347,895.94 \n",
       "  300.347,650.712 315.617,650.712 315.617,895.94 344.931,895.94 344.931,1141.17 364.274,1141.17 364.274,1386.4 369.909,1386.4 369.909,1141.17 380.026,1141.17 \n",
       "  380.026,1386.4 381.828,1386.4 381.828,1141.17 383.507,1141.17 383.507,895.94 387.929,895.94 387.929,1141.17 390.486,1141.17 390.486,895.94 403.183,895.94 \n",
       "  403.183,650.712 407.48,650.712 407.48,895.94 413.911,895.94 413.911,1141.17 429.324,1141.17 429.324,895.94 431.214,895.94 431.214,1141.17 439.24,1141.17 \n",
       "  439.24,1386.4 448.763,1386.4 448.763,1141.17 468.31,1141.17 468.31,1386.4 469.926,1386.4 469.926,1141.17 470.708,1141.17 470.708,1386.4 474.888,1386.4 \n",
       "  474.888,1141.17 515.417,1141.17 515.417,1386.4 540.517,1386.4 540.517,1141.17 553.43,1141.17 553.43,1386.4 564.284,1386.4 564.284,1141.17 566.943,1141.17 \n",
       "  566.943,1386.4 579.873,1386.4 579.873,1141.17 600.18,1141.17 600.18,1386.4 604.903,1386.4 604.903,1141.17 610.406,1141.17 610.406,1386.4 738.818,1386.4 \n",
       "  738.818,1141.17 744.782,1141.17 744.782,895.94 748.335,895.94 748.335,1141.17 761.565,1141.17 761.565,895.94 765.391,895.94 765.391,1141.17 768.383,1141.17 \n",
       "  768.383,1386.4 770.958,1386.4 770.958,1141.17 791.148,1141.17 791.148,895.94 791.577,895.94 791.577,1141.17 793.311,1141.17 793.311,1386.4 800.408,1386.4 \n",
       "  800.408,1141.17 811.315,1141.17 811.315,895.94 815.921,895.94 815.921,1141.17 816.703,1141.17 816.703,895.94 835.212,895.94 835.212,1141.17 838.061,1141.17 \n",
       "  838.061,1386.4 1023.54,1386.4 1023.54,1141.17 1026.12,1141.17 1026.12,895.94 1040.56,895.94 1040.56,650.712 1041.23,650.712 1041.23,895.94 1056.68,895.94 \n",
       "  1056.68,1141.17 1067.82,1141.17 1067.82,1386.4 1446.02,1386.4 1446.02,1141.17 1446.2,1141.17 1446.2,1386.4 1457.14,1386.4 1457.14,1141.17 1473.45,1141.17 \n",
       "  1473.45,1386.4 1531.54,1386.4 1531.54,1141.17 1543.36,1141.17 1543.36,1386.4 1545.9,1386.4 1545.9,1141.17 1546.37,1141.17 1546.37,895.94 1546.9,895.94 \n",
       "  1546.9,650.712 1552.2,650.712 1552.2,405.484 1555.36,405.484 1555.36,650.712 1568.45,650.712 1568.45,405.484 1572.56,405.484 1572.56,160.256 1574.07,160.256 \n",
       "  1574.07,405.484 1583.15,405.484 1583.15,650.712 1595.57,650.712 1595.57,895.94 1597.38,895.94 1597.38,650.712 1609,650.712 1609,405.484 1612.66,405.484 \n",
       "  1612.66,160.256 1620.58,160.256 1620.58,405.484 1642.94,405.484 1642.94,650.712 1643.72,650.712 1643.72,895.94 1669.77,895.94 1669.77,1141.17 1687.29,1141.17 \n",
       "  1687.29,895.94 1689.61,895.94 1689.61,1141.17 1694.34,1141.17 1694.34,895.94 1700.54,895.94 1700.54,650.712 1716.14,650.712 1716.14,895.94 1731.42,895.94 \n",
       "  1731.42,1141.17 1753.91,1141.17 1753.91,1386.4 1790.3,1386.4 1790.3,1141.17 1812.39,1141.17 1812.39,895.94 1820.42,895.94 1820.42,1141.17 1827.78,1141.17 \n",
       "  1827.78,1386.4 1831.56,1386.4 1831.56,1141.17 1844.74,1141.17 1844.74,895.94 1847.08,895.94 1847.08,650.712 1847.43,650.712 1847.43,895.94 1855.92,895.94 \n",
       "  1855.92,1141.17 1876.63,1141.17 1876.63,895.94 1887.36,895.94 1887.36,1141.17 1888.99,1141.17 1888.99,895.94 1894.35,895.94 1894.35,650.712 1902.02,650.712 \n",
       "  1902.02,405.484 1903.61,405.484 1903.61,650.712 1904.48,650.712 1904.48,895.94 1907.44,895.94 1907.44,650.712 1917.88,650.712 1917.88,895.94 1932.91,895.94 \n",
       "  1932.91,650.712 1937.42,650.712 1937.42,895.94 1942.16,895.94 1942.16,1141.17 1960,1141.17 1960,895.94 1960.01,895.94 1960.01,650.712 1969.15,650.712 \n",
       "  1969.15,405.484 1971.93,405.484 1971.93,650.712 1982.34,650.712 1982.34,895.94 1994.22,895.94 1994.22,650.712 1999.95,650.712 1999.95,895.94 2001.62,895.94 \n",
       "  2001.62,650.712 2002.4,650.712 2002.4,895.94 2003.02,895.94 2003.02,650.712 2015.49,650.712 2015.49,405.484 2015.98,405.484 2015.98,160.256 2018.57,160.256 \n",
       "  2018.57,405.484 2040.42,405.484 2040.42,160.256 2043.24,160.256 2043.24,405.484 2051.22,405.484 2051.22,650.712 2052.3,650.712 2052.3,405.484 2064.85,405.484 \n",
       "  2064.85,160.256 2075.7,160.256 2075.7,405.484 2078.74,405.484 2078.74,650.712 2092.19,650.712 2092.19,405.484 2109.76,405.484 2109.76,650.712 2119.45,650.712 \n",
       "  2119.45,405.484 2120.2,405.484 2120.2,160.256 2128.75,160.256 2128.75,405.484 2143.87,405.484 2143.87,160.256 2146.04,160.256 2146.04,405.484 2146.66,405.484 \n",
       "  2146.66,650.712 2148.99,650.712 2148.99,405.484 2165.98,405.484 2165.98,160.256 2177.17,160.256 2177.17,405.484 2193.22,405.484 2193.22,650.712 2221.39,650.712 \n",
       "  2221.39,895.94 2231.42,895.94 2231.42,1141.17 2251,1141.17 2251,1386.4 2291.13,1386.4 \n",
       "  \"/>\n",
       "</svg>\n"
      ]
     },
     "metadata": {},
     "output_type": "display_data"
    }
   ],
   "source": [
    "run_simulation(100)"
   ]
  }
 ],
 "metadata": {
  "@webio": {
   "lastCommId": null,
   "lastKernelId": null
  },
  "kernelspec": {
   "display_name": "Julia 1.5.3",
   "language": "julia",
   "name": "julia-1.5"
  },
  "language_info": {
   "file_extension": ".jl",
   "mimetype": "application/julia",
   "name": "julia",
   "version": "1.5.3"
  }
 },
 "nbformat": 4,
 "nbformat_minor": 4
}
